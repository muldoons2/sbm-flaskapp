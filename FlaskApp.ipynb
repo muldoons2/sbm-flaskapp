{
 "cells": [
  {
   "cell_type": "code",
   "execution_count": null,
   "metadata": {},
   "outputs": [
    {
     "name": "stdout",
     "output_type": "stream",
     "text": [
      " * Serving Flask app \"__main__\" (lazy loading)\n",
      " * Environment: production\n",
      "   WARNING: This is a development server. Do not use it in a production deployment.\n",
      "   Use a production WSGI server instead.\n",
      " * Debug mode: off\n"
     ]
    },
    {
     "name": "stderr",
     "output_type": "stream",
     "text": [
      " * Running on http://localhost:5000/ (Press CTRL+C to quit)\n",
      "127.0.0.1 - - [03/May/2020 21:15:41] \"GET / HTTP/1.1\" 200 -\n",
      "127.0.0.1 - - [03/May/2020 21:15:56] \"GET /index HTTP/1.1\" 200 -\n"
     ]
    }
   ],
   "source": [
    "from flask import Flask, render_template, url_for\n",
    "from flask_sqlalchemy import SQLAlchemy\n",
    "from datetime import datetime\n",
    "app = Flask(__name__)\n",
    "\n",
    "############################################################\n",
    "#### This part is related to creating a Database, which is not complete\n",
    "#### Video instructions are here: https://www.youtube.com/watch?v=Z1RJmh_OqeA\n",
    "# app.config['SQLALCHEMY_DATABASE_URI'] = 'sqlite:///test.db'\n",
    "# db = SQLAlchemy(app)\n",
    "# class todo(db.model):\n",
    "#     id = db.Column(db.Integer, primary_key=True)\n",
    "#     content = db.Column(db.String(200), nullable=False)\n",
    "#     completed = db.Column(db.Integer, default=0)\n",
    "#     date_created = db.Column(db.DateTime, default = datetime.utcnow)\n",
    "# def __repr__(self):\n",
    "#     return '<task %r>' % self.id\n",
    "############################################################\n",
    "    \n",
    "@app.route(\"/\")\n",
    "def home(): return render_template('home.html')\n",
    "\n",
    "@app.route(\"/index\")\n",
    "def index(): return render_template('index.html')\n",
    "\n",
    "@app.route(\"/base\")\n",
    "def base(): return render_template('base.html')\n",
    "\n",
    "@app.route(\"/hello_sean\")\n",
    "def hello_sean(): return (\"Hello, Sean!\")\n",
    "\n",
    "if __name__ == \"__main__\":\n",
    "    app.run(host='localhost',port=5000)\n",
    "#     app.run(host='localhost',port=5000,debug=True)"
   ]
  },
  {
   "cell_type": "code",
   "execution_count": 1,
   "metadata": {},
   "outputs": [],
   "source": [
    "#cd /Users/seanmuldoon/Desktop/Python_Mac/FlaskIntro\n",
    "\n",
    "# pip install virtualenv\n",
    "# virtualenv env\n",
    "# source env/bin/activate\n",
    "\n",
    "# !pip install flask_sqlalchemy"
   ]
  },
  {
   "cell_type": "code",
   "execution_count": null,
   "metadata": {},
   "outputs": [],
   "source": []
  }
 ],
 "metadata": {
  "kernelspec": {
   "display_name": "Python 3",
   "language": "python",
   "name": "python3"
  },
  "language_info": {
   "codemirror_mode": {
    "name": "ipython",
    "version": 3
   },
   "file_extension": ".py",
   "mimetype": "text/x-python",
   "name": "python",
   "nbconvert_exporter": "python",
   "pygments_lexer": "ipython3",
   "version": "3.7.3"
  }
 },
 "nbformat": 4,
 "nbformat_minor": 4
}
